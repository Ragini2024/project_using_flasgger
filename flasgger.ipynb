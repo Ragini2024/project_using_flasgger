{
 "cells": [
  {
   "cell_type": "code",
   "execution_count": 1,
   "metadata": {},
   "outputs": [],
   "source": [
    "from flask import Flask, request\n",
    "import pandas as pd\n",
    "import numpy as np\n",
    "import pickle\n",
    "import flasgger\n",
    "from flasgger import Swagger"
   ]
  },
  {
   "cell_type": "code",
   "execution_count": null,
   "metadata": {},
   "outputs": [
    {
     "name": "stderr",
     "output_type": "stream",
     "text": [
      " * Running on http://127.0.0.1:5000/ (Press CTRL+C to quit)\n"
     ]
    }
   ],
   "source": [
    "app=Flask(__name__)\n",
    "Swagger(app)\n",
    "\n",
    "pickle_in=open('/Users/HP/Datascience/end_project/model.pkl','rb')\n",
    "model = pickle.load(pickle_in)\n",
    "\n",
    "@app.route('/')\n",
    "def welcome():\n",
    "    return \"welcome all\"\n",
    "\n",
    "@app.route('/predict', methods=['Get'])\n",
    "def predict():\n",
    "    \"\"\"lets predict profit\n",
    "    ---\n",
    "    parameters:\n",
    "        - name: RND\n",
    "          in: query\n",
    "          type: number\n",
    "          required: true\n",
    "        - name: ADMIN\n",
    "          in: query\n",
    "          type: number\n",
    "          required: true\n",
    "    responses:\n",
    "        200:\n",
    "            description: the output values\n",
    "            \n",
    "    \"\"\"\n",
    "    RND=request.args.get('RND')\n",
    "    ADMIN=request.args.get('ADMIN')\n",
    "    prediction=model.predict([[RND, ADMIN]])\n",
    "    print(prediction)\n",
    "    return \"hello the answer is\"+str(prediction)\n",
    "\n",
    "@app.route('/predict_file', methods=['POST'])\n",
    "def predict_file():\n",
    "    \"\"\"lets predict with using file as input\n",
    "    ___\n",
    "    parameters:\n",
    "        - name: file\n",
    "          in: formData: \n",
    "          type: file\n",
    "          required: true\n",
    "          \n",
    "    responses:\n",
    "        200:\n",
    "            description: the output value is\n",
    "    \"\"\"    \n",
    "    df_test= pd.read_csv(request.files.get('file'))\n",
    "    print(df_test.head())\n",
    "    prediction = model.predict(df_test)\n",
    "    \n",
    "    return str(list(prediction))\n",
    "    \n",
    "    \n",
    "    \n",
    "\n",
    "if __name__==\"__main__\":\n",
    "    app.run()"
   ]
  },
  {
   "cell_type": "code",
   "execution_count": null,
   "metadata": {},
   "outputs": [],
   "source": []
  },
  {
   "cell_type": "code",
   "execution_count": null,
   "metadata": {},
   "outputs": [],
   "source": []
  },
  {
   "cell_type": "code",
   "execution_count": null,
   "metadata": {},
   "outputs": [],
   "source": []
  },
  {
   "cell_type": "code",
   "execution_count": null,
   "metadata": {},
   "outputs": [],
   "source": []
  },
  {
   "cell_type": "code",
   "execution_count": null,
   "metadata": {},
   "outputs": [],
   "source": []
  },
  {
   "cell_type": "code",
   "execution_count": null,
   "metadata": {},
   "outputs": [],
   "source": []
  },
  {
   "cell_type": "code",
   "execution_count": null,
   "metadata": {},
   "outputs": [],
   "source": []
  },
  {
   "cell_type": "code",
   "execution_count": null,
   "metadata": {},
   "outputs": [],
   "source": []
  },
  {
   "cell_type": "code",
   "execution_count": null,
   "metadata": {},
   "outputs": [],
   "source": []
  },
  {
   "cell_type": "code",
   "execution_count": null,
   "metadata": {},
   "outputs": [],
   "source": []
  },
  {
   "cell_type": "code",
   "execution_count": null,
   "metadata": {},
   "outputs": [],
   "source": []
  },
  {
   "cell_type": "code",
   "execution_count": null,
   "metadata": {},
   "outputs": [],
   "source": []
  },
  {
   "cell_type": "code",
   "execution_count": null,
   "metadata": {},
   "outputs": [],
   "source": []
  },
  {
   "cell_type": "code",
   "execution_count": null,
   "metadata": {},
   "outputs": [],
   "source": []
  }
 ],
 "metadata": {
  "kernelspec": {
   "display_name": "Python 3",
   "language": "python",
   "name": "python3"
  },
  "language_info": {
   "codemirror_mode": {
    "name": "ipython",
    "version": 3
   },
   "file_extension": ".py",
   "mimetype": "text/x-python",
   "name": "python",
   "nbconvert_exporter": "python",
   "pygments_lexer": "ipython3",
   "version": "3.6.4"
  }
 },
 "nbformat": 4,
 "nbformat_minor": 2
}
